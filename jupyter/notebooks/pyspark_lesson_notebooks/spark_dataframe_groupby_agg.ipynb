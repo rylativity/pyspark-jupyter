{
 "cells": [
  {
   "cell_type": "markdown",
   "id": "c6d29039-5990-4281-bffd-5823ccaeb773",
   "metadata": {},
   "source": [
    "# GroupBy and Aggregate Functions"
   ]
  },
  {
   "cell_type": "code",
   "execution_count": null,
   "id": "2daf30ce-62b9-496b-8f0e-0c24f363ddec",
   "metadata": {},
   "outputs": [],
   "source": [
    "from pyspark.sql import SparkSession\n",
    "\n",
    "spark = SparkSession.builder.appName(\"Aggs\").getOrCreate()"
   ]
  },
  {
   "cell_type": "code",
   "execution_count": null,
   "id": "ba53ea1e-c80d-45f9-ba40-aeca24b73b9f",
   "metadata": {},
   "outputs": [],
   "source": [
    "df = spark.read.csv(\"/data/sales_info.csv\", inferSchema=True, header=True)"
   ]
  },
  {
   "cell_type": "code",
   "execution_count": null,
   "id": "3dfdee39-cd33-4b1d-aab3-93290a6582e3",
   "metadata": {},
   "outputs": [],
   "source": [
    "df.show()"
   ]
  },
  {
   "cell_type": "code",
   "execution_count": null,
   "id": "f31a2165-3e82-4310-9116-a46fc0eb9073",
   "metadata": {},
   "outputs": [],
   "source": [
    "df.printSchema()"
   ]
  },
  {
   "cell_type": "code",
   "execution_count": null,
   "id": "1ec73865-e052-4352-99be-14659a10c393",
   "metadata": {},
   "outputs": [],
   "source": [
    "# groupBy returns GroupedData object (like python .groupby)\n",
    "df.groupBy(\"Company\")"
   ]
  },
  {
   "cell_type": "code",
   "execution_count": null,
   "id": "92bc26ad-5ccf-4597-974c-de6a2fc125bc",
   "metadata": {},
   "outputs": [],
   "source": [
    "# Calling .mean method on groupeddata object returns a datafame\n",
    "df.groupBy(\"Company\").min().show()"
   ]
  },
  {
   "cell_type": "code",
   "execution_count": null,
   "id": "d1a28604-6193-4bb4-907f-52e458585164",
   "metadata": {},
   "outputs": [],
   "source": [
    "df.groupBy(\"Company\").count().show()"
   ]
  },
  {
   "cell_type": "markdown",
   "id": "c04b5c3c-254d-4aa5-a589-9901a11bce6f",
   "metadata": {},
   "source": [
    "https://spark.apache.org/docs/3.1.1/api/python/reference/api/pyspark.sql.GroupedData.html"
   ]
  },
  {
   "cell_type": "code",
   "execution_count": null,
   "id": "6032538c-c147-40cd-9406-76094debefd5",
   "metadata": {},
   "outputs": [],
   "source": [
    "# Can also call agg functions without grouping first (e.g. to get column totals)\n",
    "df.agg({\"Sales\":\"max\"}).show(), df.agg({\"Sales\":\"sum\"}).show()"
   ]
  },
  {
   "cell_type": "code",
   "execution_count": null,
   "id": "41654dda-d741-40dd-b82f-153836abc2da",
   "metadata": {},
   "outputs": [],
   "source": [
    "group_data = df.groupBy(\"Company\")"
   ]
  },
  {
   "cell_type": "code",
   "execution_count": null,
   "id": "3fcc7439-9df9-485d-9fc0-ea41954e9960",
   "metadata": {},
   "outputs": [],
   "source": [
    "group_data.agg({\"Sales\":\"max\"}).show()"
   ]
  },
  {
   "cell_type": "code",
   "execution_count": null,
   "id": "200d4ef6-5933-4dec-9f2e-b7e3827b552a",
   "metadata": {},
   "outputs": [],
   "source": [
    "# Import useful functions from pyspark\n",
    "from pyspark.sql.functions import countDistinct, avg, stddev"
   ]
  },
  {
   "cell_type": "code",
   "execution_count": null,
   "id": "185fa571-f735-41e0-9cf8-a54f2bbbb28a",
   "metadata": {},
   "outputs": [],
   "source": [
    "# Pass a pyspark.sql function to df.select\n",
    "df.select(countDistinct('Sales')).show()"
   ]
  },
  {
   "cell_type": "code",
   "execution_count": null,
   "id": "7680f2f9-00ba-4c60-a49a-5dc7925619f8",
   "metadata": {},
   "outputs": [],
   "source": [
    "# Can provide an alias for output column\n",
    "df.select(stddev('Sales').alias(\"StdDev Sales\")).show()"
   ]
  },
  {
   "cell_type": "code",
   "execution_count": null,
   "id": "a2ddd9a0-b79a-407a-93e3-1de39160a571",
   "metadata": {},
   "outputs": [],
   "source": [
    "# Can format numbers with pyspark.sql function format_number()\n",
    "from pyspark.sql.functions import format_number"
   ]
  },
  {
   "cell_type": "code",
   "execution_count": null,
   "id": "981ce224-ccb6-49aa-af42-3b7164b4436c",
   "metadata": {},
   "outputs": [],
   "source": [
    "sales_std = df.select(stddev('Sales').alias(\"StdDev Sales\"))"
   ]
  },
  {
   "cell_type": "code",
   "execution_count": null,
   "id": "0d165811-2189-4ae4-a492-f6ffca576e19",
   "metadata": {},
   "outputs": [],
   "source": [
    "sales_std.select(format_number(\"StdDev Sales\", 2).alias(\"StdDev Sales\")).show()"
   ]
  },
  {
   "cell_type": "code",
   "execution_count": null,
   "id": "34812cc9-74aa-4dfa-865f-39fc610b6322",
   "metadata": {},
   "outputs": [],
   "source": [
    "# Ordering and Sorting\n",
    "df.orderBy(\"Sales\", ascending=False).show()"
   ]
  },
  {
   "cell_type": "code",
   "execution_count": null,
   "id": "da66722a-28c5-411e-a466-7e620d83450f",
   "metadata": {},
   "outputs": [],
   "source": [
    "df.orderBy(df[\"Sales\"].desc()).show()"
   ]
  },
  {
   "cell_type": "code",
   "execution_count": null,
   "id": "6ca655aa-20ef-4632-8e88-3bc14f310e6b",
   "metadata": {},
   "outputs": [],
   "source": []
  }
 ],
 "metadata": {
  "kernelspec": {
   "display_name": "Python 3 (ipykernel)",
   "language": "python",
   "name": "python3"
  },
  "language_info": {
   "codemirror_mode": {
    "name": "ipython",
    "version": 3
   },
   "file_extension": ".py",
   "mimetype": "text/x-python",
   "name": "python",
   "nbconvert_exporter": "python",
   "pygments_lexer": "ipython3",
   "version": "3.10.4"
  }
 },
 "nbformat": 4,
 "nbformat_minor": 5
}
