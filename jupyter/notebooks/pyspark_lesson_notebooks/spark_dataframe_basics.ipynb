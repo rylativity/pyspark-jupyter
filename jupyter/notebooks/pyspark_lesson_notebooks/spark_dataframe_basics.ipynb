{
 "cells": [
  {
   "cell_type": "markdown",
   "id": "01c79247-fd3e-4f48-ac30-7279281d852d",
   "metadata": {},
   "source": [
    "# Spark DataFrame Basics"
   ]
  },
  {
   "cell_type": "code",
   "execution_count": null,
   "id": "a1c0e532-22e0-455b-9b9c-405f6b5b175e",
   "metadata": {},
   "outputs": [],
   "source": [
    "from pyspark.sql import SparkSession\n",
    "\n",
    "spark = SparkSession.builder.appName(\"Basics\").getOrCreate()"
   ]
  },
  {
   "cell_type": "code",
   "execution_count": null,
   "id": "64741a68-65b6-427e-8114-c51485aff4cf",
   "metadata": {},
   "outputs": [],
   "source": [
    "# Read in data from json file\n",
    "df = spark.read.json('/data/people.json')"
   ]
  },
  {
   "cell_type": "code",
   "execution_count": null,
   "id": "570b14c9-c225-4648-be94-b8036404e0fc",
   "metadata": {},
   "outputs": [],
   "source": [
    "# Show the dataframe\n",
    "df.show()"
   ]
  },
  {
   "cell_type": "code",
   "execution_count": null,
   "id": "69bbbe04-6a9a-4fa4-a324-b556899d61cd",
   "metadata": {},
   "outputs": [],
   "source": [
    "# Print the dataframe inferred schema\n",
    "df.printSchema()"
   ]
  },
  {
   "cell_type": "code",
   "execution_count": null,
   "id": "2e7429ed-a9a8-4971-8baf-5a56cf2b9e71",
   "metadata": {},
   "outputs": [],
   "source": [
    "# Get column names\n",
    "df.columns"
   ]
  },
  {
   "cell_type": "code",
   "execution_count": null,
   "id": "7efdf633-7c4c-4929-8fc6-645536882cd4",
   "metadata": {},
   "outputs": [],
   "source": [
    "# Get descriptive statistics\n",
    "df.describe().show()"
   ]
  },
  {
   "cell_type": "code",
   "execution_count": null,
   "id": "c981e378-e0a9-4584-beaa-9f1cae36df44",
   "metadata": {},
   "outputs": [],
   "source": [
    "from pyspark.sql.types import (StructField, \n",
    "                               StringType, \n",
    "                               IntegerType, \n",
    "                               StructType)"
   ]
  },
  {
   "cell_type": "code",
   "execution_count": null,
   "id": "6426b688-d300-4b79-ad82-a97cbaf2daf8",
   "metadata": {},
   "outputs": [],
   "source": [
    "# Build a schema with a list of structfields and specific pyspark types\n",
    "data_schema = [StructField(name='age', \n",
    "                           dataType=IntegerType(),\n",
    "                           nullable=True),\n",
    "               StructField(\"name\", StringType(), True)\n",
    "              ]"
   ]
  },
  {
   "cell_type": "code",
   "execution_count": null,
   "id": "2b857ed2-5965-49ca-a914-5130a39f3520",
   "metadata": {},
   "outputs": [],
   "source": [
    "# Use the schema to create a StructType\n",
    "final_struct = StructType(fields=data_schema)"
   ]
  },
  {
   "cell_type": "code",
   "execution_count": null,
   "id": "3a6f7943-9526-42e1-96e2-c7a85aa7d93f",
   "metadata": {},
   "outputs": [],
   "source": [
    "# Read in the same data from before but with a defined schema\n",
    "df = spark.read.json(path = \"data/people.json\", schema=final_struct)"
   ]
  },
  {
   "cell_type": "code",
   "execution_count": null,
   "id": "43420266-314b-45aa-95e6-1802ae6f6692",
   "metadata": {},
   "outputs": [],
   "source": [
    "# Print the new schema\n",
    "df.printSchema()"
   ]
  },
  {
   "cell_type": "code",
   "execution_count": null,
   "id": "0064d762-9cae-4024-bb03-9e37094f008e",
   "metadata": {},
   "outputs": [],
   "source": [
    "# Create a dataframe of a single column with .select method\n",
    "df.select(\"age\").show()"
   ]
  },
  {
   "cell_type": "code",
   "execution_count": null,
   "id": "acd30c0b-8ffd-4933-94ce-0b563acd7c70",
   "metadata": {},
   "outputs": [],
   "source": [
    "# Select the first two rows, and extract the first by index\n",
    "df.head(2)[0]"
   ]
  },
  {
   "cell_type": "code",
   "execution_count": null,
   "id": "70530da1-2a25-43be-acc5-fb0c3850c60a",
   "metadata": {},
   "outputs": [],
   "source": [
    "# Create a dataframe by selecting two columns and show it\n",
    "df.select(['age','name']).show()"
   ]
  },
  {
   "cell_type": "code",
   "execution_count": null,
   "id": "bd3a1c5c-7615-4ee0-b77f-3e807a3aa3aa",
   "metadata": {},
   "outputs": [],
   "source": [
    "# Create a dataframe with a new column by doubling age \n",
    "#(does not modify existing df inplace)\n",
    "df.withColumn(\"double_age\", df[\"age\"]*2).show()"
   ]
  },
  {
   "cell_type": "code",
   "execution_count": null,
   "id": "db2953b5-1a7d-4f4e-aed6-e3ff7219ec0c",
   "metadata": {},
   "outputs": [],
   "source": [
    "# Rename a Column\n",
    "# (does not modify existing df inplace\n",
    "df.withColumnRenamed(\"age\",\"Age\").show()"
   ]
  },
  {
   "cell_type": "code",
   "execution_count": null,
   "id": "c1829db0-fd0a-4903-9718-e683026bedaf",
   "metadata": {},
   "outputs": [],
   "source": [
    "# Use Pure SQL with DataFrames\n",
    "\n",
    "#Register a temporary view\n",
    "df.createOrReplaceTempView('people')"
   ]
  },
  {
   "cell_type": "code",
   "execution_count": null,
   "id": "0be6c48f-7243-41d7-acd0-b4c29a101b03",
   "metadata": {},
   "outputs": [],
   "source": [
    "results = spark.sql(\"SELECT * FROM people\")"
   ]
  },
  {
   "cell_type": "code",
   "execution_count": null,
   "id": "c54efc72-e298-43f5-ba09-2b8147ac695d",
   "metadata": {},
   "outputs": [],
   "source": [
    "results.show()"
   ]
  },
  {
   "cell_type": "code",
   "execution_count": null,
   "id": "4bed57e6-b560-4f26-8a6f-8142d2cd8746",
   "metadata": {},
   "outputs": [],
   "source": [
    "new_results = spark.sql(\"SELECT * FROM people WHERE age>20\")"
   ]
  },
  {
   "cell_type": "code",
   "execution_count": null,
   "id": "b9c159f7-92c7-4c45-9f24-990d0e8e7f76",
   "metadata": {},
   "outputs": [],
   "source": [
    "new_results.show()"
   ]
  },
  {
   "cell_type": "code",
   "execution_count": null,
   "id": "d98b0df4-ae67-462e-9c45-d3dbe2c4e39e",
   "metadata": {},
   "outputs": [],
   "source": []
  }
 ],
 "metadata": {
  "kernelspec": {
   "display_name": "Python 3 (ipykernel)",
   "language": "python",
   "name": "python3"
  },
  "language_info": {
   "codemirror_mode": {
    "name": "ipython",
    "version": 3
   },
   "file_extension": ".py",
   "mimetype": "text/x-python",
   "name": "python",
   "nbconvert_exporter": "python",
   "pygments_lexer": "ipython3",
   "version": "3.10.4"
  }
 },
 "nbformat": 4,
 "nbformat_minor": 5
}
