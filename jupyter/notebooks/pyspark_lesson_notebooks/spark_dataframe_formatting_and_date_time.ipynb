{
 "cells": [
  {
   "cell_type": "markdown",
   "id": "ffdd1eea-39fa-4fb1-9042-af0179106769",
   "metadata": {},
   "source": [
    "# Spark DataFrame Dates & Number Formatting"
   ]
  },
  {
   "cell_type": "code",
   "execution_count": null,
   "id": "f1fbcc4b-a9fc-422a-aa74-7eb5745745f2",
   "metadata": {
    "tags": []
   },
   "outputs": [],
   "source": [
    "from pyspark.sql import SparkSession\n",
    "\n",
    "spark = SparkSession.builder.master(\"spark://spark:7077\").appName(\"DateTime\").getOrCreate()"
   ]
  },
  {
   "cell_type": "code",
   "execution_count": null,
   "id": "5a9cdaa0-d108-4ae9-8a85-514cfc9f21cb",
   "metadata": {},
   "outputs": [],
   "source": [
    "df = spark.read.csv(\"/data/appl_stock.csv\", header=True, inferSchema=True)"
   ]
  },
  {
   "cell_type": "code",
   "execution_count": null,
   "id": "5f944901-0b1b-4846-ba4a-b5f4fb570cb1",
   "metadata": {},
   "outputs": [],
   "source": [
    "df.head(1)"
   ]
  },
  {
   "cell_type": "code",
   "execution_count": null,
   "id": "a008a491-4aaf-4fd1-bcb4-e4ad38ae6d3b",
   "metadata": {},
   "outputs": [],
   "source": [
    "df.dtypes"
   ]
  },
  {
   "cell_type": "code",
   "execution_count": null,
   "id": "6a6a4ed7-1bef-4779-9910-aeb0f88d7205",
   "metadata": {},
   "outputs": [],
   "source": [
    "df.select(['Date','Open']).show()"
   ]
  },
  {
   "cell_type": "markdown",
   "id": "5b423d05-8f49-4f7a-b059-6c212c3efade",
   "metadata": {
    "tags": []
   },
   "source": [
    "# Cast String to Date"
   ]
  },
  {
   "cell_type": "code",
   "execution_count": null,
   "id": "ee045fb5-e074-4073-9c34-410a4614ae7e",
   "metadata": {},
   "outputs": [],
   "source": [
    "from pyspark.sql.functions import col, date"
   ]
  },
  {
   "cell_type": "code",
   "execution_count": null,
   "id": "35775d81-dfc9-4cf3-beaa-664c184bd044",
   "metadata": {},
   "outputs": [],
   "source": [
    "df = df.withColumn('Date', to_date(df['Date']))"
   ]
  },
  {
   "cell_type": "code",
   "execution_count": null,
   "id": "254c6e77-7c4f-4cfe-bd48-ff92a8f166ad",
   "metadata": {},
   "outputs": [],
   "source": [
    "df.dtypes"
   ]
  },
  {
   "cell_type": "markdown",
   "id": "76957941-60ac-4db1-a19a-2cad7ad2aaca",
   "metadata": {},
   "source": [
    "# Use Date Functions "
   ]
  },
  {
   "cell_type": "code",
   "execution_count": null,
   "id": "40017719-e414-48ae-be32-896eb8ec35e8",
   "metadata": {},
   "outputs": [],
   "source": [
    "from pyspark.sql.functions import (dayofmonth, dayofyear, weekofyear,\n",
    "                                   hour, month, year,\n",
    "                                   format_number, date_format)                                   "
   ]
  },
  {
   "cell_type": "code",
   "execution_count": null,
   "id": "8b36c267-ea3f-4bb5-ab57-142502aed380",
   "metadata": {},
   "outputs": [],
   "source": [
    "df.select(dayofmonth(df[\"Date\"])).show()"
   ]
  },
  {
   "cell_type": "markdown",
   "id": "fe64c728-54d2-4b5d-ac7d-e3eb4fd2e148",
   "metadata": {},
   "source": [
    "# Calculate Average grouped by year"
   ]
  },
  {
   "cell_type": "code",
   "execution_count": null,
   "id": "f5f00a23-d801-4ba7-93ea-26a6eebdd08e",
   "metadata": {},
   "outputs": [],
   "source": [
    "#df.select(year(df[\"Date\"])).show()\n",
    "df = df.withColumn(\"Year\", year(df[\"Date\"]))"
   ]
  },
  {
   "cell_type": "code",
   "execution_count": null,
   "id": "925e3d1b-354a-4b05-bd42-f72177593c5e",
   "metadata": {},
   "outputs": [],
   "source": [
    "df.groupBy(\"Year\").mean().show()"
   ]
  },
  {
   "cell_type": "code",
   "execution_count": null,
   "id": "e5aa35c2-c680-4a3f-9eb9-c58855798ea1",
   "metadata": {},
   "outputs": [],
   "source": [
    "# Average close price by year\n",
    "#df.groupBy(\"Year\").mean().select([\"Year\",\"avg(Close)\"]).show()\n",
    "result = df.groupBy(\"Year\").mean().select([\"Year\",\"avg(Close)\"]).withColumnRenamed(\"avg(Close)\", \"AvgClosePrice\")"
   ]
  },
  {
   "cell_type": "markdown",
   "id": "454fbd0d-a5fd-4116-affd-830021cad130",
   "metadata": {},
   "source": [
    "# Format Number to Remove All But Two Significant Digits"
   ]
  },
  {
   "cell_type": "code",
   "execution_count": null,
   "id": "6839716d-0efb-432b-af27-3bb99f18c8f3",
   "metadata": {},
   "outputs": [],
   "source": [
    "result.show()"
   ]
  },
  {
   "cell_type": "code",
   "execution_count": null,
   "id": "8b05691d-423e-4716-9754-83a7cc308218",
   "metadata": {},
   "outputs": [],
   "source": [
    "result.select(['Year', format_number(\"AvgClosePrice\", 2).alias(\"AvgClosePrice\")]).show()"
   ]
  },
  {
   "cell_type": "code",
   "execution_count": null,
   "id": "ba7a0db1-524b-45a7-9308-bd7ace7ed700",
   "metadata": {},
   "outputs": [],
   "source": []
  }
 ],
 "metadata": {
  "kernelspec": {
   "display_name": "Python 3 (ipykernel)",
   "language": "python",
   "name": "python3"
  },
  "language_info": {
   "codemirror_mode": {
    "name": "ipython",
    "version": 3
   },
   "file_extension": ".py",
   "mimetype": "text/x-python",
   "name": "python",
   "nbconvert_exporter": "python",
   "pygments_lexer": "ipython3",
   "version": "3.10.4"
  }
 },
 "nbformat": 4,
 "nbformat_minor": 5
}
