{
 "cells": [
  {
   "cell_type": "markdown",
   "id": "ffdd1eea-39fa-4fb1-9042-af0179106769",
   "metadata": {},
   "source": [
    "# Spark DataFrame Dates & Timestamps"
   ]
  },
  {
   "cell_type": "code",
   "execution_count": null,
   "id": "f1fbcc4b-a9fc-422a-aa74-7eb5745745f2",
   "metadata": {},
   "outputs": [],
   "source": [
    "from pyspark.sql import SparkSession\n",
    "\n",
    "spark = SparkSession.builder.master(\"spark://spark:7077\").appName(\"DateTime\").getOrCreate()"
   ]
  }
 ],
 "metadata": {
  "kernelspec": {
   "display_name": "Python 3 (ipykernel)",
   "language": "python",
   "name": "python3"
  },
  "language_info": {
   "codemirror_mode": {
    "name": "ipython",
    "version": 3
   },
   "file_extension": ".py",
   "mimetype": "text/x-python",
   "name": "python",
   "nbconvert_exporter": "python",
   "pygments_lexer": "ipython3",
   "version": "3.10.4"
  }
 },
 "nbformat": 4,
 "nbformat_minor": 5
}
