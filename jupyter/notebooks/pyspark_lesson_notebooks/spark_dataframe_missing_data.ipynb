{
 "cells": [
  {
   "cell_type": "markdown",
   "id": "c1576bf5-93b1-4985-9492-cbadb5d96526",
   "metadata": {},
   "source": [
    "# Spark DataFrame Missing Data"
   ]
  },
  {
   "cell_type": "code",
   "execution_count": null,
   "id": "d80ffb97-300e-4fe4-9b35-4fe86b5fe494",
   "metadata": {},
   "outputs": [],
   "source": [
    "from pyspark.sql import SparkSession\n",
    "\n",
    "spark = SparkSession.builder.master(\"spark://spark:7077\").appName(\"Missing\").getOrCreate()"
   ]
  },
  {
   "cell_type": "code",
   "execution_count": null,
   "id": "4c3f8414-5a6d-4457-96d1-0b9cefe44a08",
   "metadata": {},
   "outputs": [],
   "source": [
    "df = spark.read.csv(\"/data/ContainsNull.csv\",header=True, inferSchema=True)"
   ]
  },
  {
   "cell_type": "code",
   "execution_count": null,
   "id": "4a0ed3a1-8aac-441f-9f6f-c40665b094a8",
   "metadata": {},
   "outputs": [],
   "source": [
    "df.show()"
   ]
  },
  {
   "cell_type": "markdown",
   "id": "66f6a081-a372-4e64-9a8f-1b304996afb0",
   "metadata": {},
   "source": [
    "## Dropping Null Values"
   ]
  },
  {
   "cell_type": "code",
   "execution_count": null,
   "id": "07465ce8-bfde-4df4-9557-15527bb63a2d",
   "metadata": {},
   "outputs": [],
   "source": [
    "# Use .na.drop() to drop rows with any null values\n",
    "df.na.drop().show()"
   ]
  },
  {
   "cell_type": "code",
   "execution_count": null,
   "id": "d671a70c-301d-44e4-b3e7-c157d3a60b7a",
   "metadata": {},
   "outputs": [],
   "source": [
    "# Use .na.drop(thresh=<n>) to drop rows with at least <n> null values\n",
    "df.na.drop(thresh=2).show()"
   ]
  },
  {
   "cell_type": "code",
   "execution_count": null,
   "id": "054c4f0d-ab92-4af2-b490-15722621e4e2",
   "metadata": {},
   "outputs": [],
   "source": [
    "# Use .na.drop(how=<\"any\"|\"all\">) to drop rows with any null values or all null values\n",
    "df.na.drop(how=\"all\").show()\n"
   ]
  },
  {
   "cell_type": "code",
   "execution_count": null,
   "id": "686407d9-9418-42a3-a63a-4a6c07ef97fc",
   "metadata": {},
   "outputs": [],
   "source": [
    "# Use .na.drop(subset=<[cols]>) to drop rows with null values in subset of columns\n",
    "df.na.drop(subset=\"Sales\").show()"
   ]
  },
  {
   "cell_type": "code",
   "execution_count": null,
   "id": "851cd0ab-1a1d-4b9f-a028-5ac7bd4d2aa5",
   "metadata": {},
   "outputs": [],
   "source": [
    "# Filling Null Values"
   ]
  },
  {
   "cell_type": "code",
   "execution_count": null,
   "id": "ce8eb36e-d298-492a-82c5-a68d33f71166",
   "metadata": {},
   "outputs": [],
   "source": [
    "df.printSchema()"
   ]
  },
  {
   "cell_type": "code",
   "execution_count": null,
   "id": "b2128d3a-9728-4a45-abda-5d5387f30751",
   "metadata": {},
   "outputs": [],
   "source": [
    "# Spark knows to automatically fill string columns with string values amd numeric columns with numeric values\n",
    "df.na.fill(0).show()\n",
    "# Does not fill string column"
   ]
  },
  {
   "cell_type": "code",
   "execution_count": null,
   "id": "c3c45a38-48af-4699-869e-420e29a22557",
   "metadata": {},
   "outputs": [],
   "source": [
    "# Fill specific columns with specific value\n",
    "df.na.fill(\"No Name\", subset=[\"Name\"]).show()"
   ]
  },
  {
   "cell_type": "code",
   "execution_count": null,
   "id": "6a4deec7-2cf4-4971-90df-fb39f1c702d6",
   "metadata": {},
   "outputs": [],
   "source": [
    "# Using computed mean value to fill column\n",
    "from pyspark.sql.functions import mean"
   ]
  },
  {
   "cell_type": "code",
   "execution_count": null,
   "id": "d2dd6a63-47fc-47c8-b822-a012037d4495",
   "metadata": {},
   "outputs": [],
   "source": [
    "mean_val = df.select(mean(df[\"Sales\"])).collect()"
   ]
  },
  {
   "cell_type": "code",
   "execution_count": null,
   "id": "560749b0-57bd-4817-9fbb-c87434408268",
   "metadata": {},
   "outputs": [],
   "source": [
    "# .collect() returns list of rows\n",
    "mean_val"
   ]
  },
  {
   "cell_type": "code",
   "execution_count": null,
   "id": "6f8f6cfb-525c-4e92-9033-7a137f2b3aea",
   "metadata": {},
   "outputs": [],
   "source": [
    "print(mean_val[0][0])\n",
    "mean_sales = mean_val[0][0]"
   ]
  },
  {
   "cell_type": "code",
   "execution_count": null,
   "id": "dc3df26a-9109-4e29-9b09-3c81d78d3a6a",
   "metadata": {},
   "outputs": [],
   "source": [
    "df.na.fill(mean_sales, subset=[\"Sales\"]).show()"
   ]
  },
  {
   "cell_type": "code",
   "execution_count": null,
   "id": "79c0c67b-9d74-43f1-8f14-4c6bec44b4ca",
   "metadata": {},
   "outputs": [],
   "source": []
  }
 ],
 "metadata": {
  "kernelspec": {
   "display_name": "Python 3 (ipykernel)",
   "language": "python",
   "name": "python3"
  },
  "language_info": {
   "codemirror_mode": {
    "name": "ipython",
    "version": 3
   },
   "file_extension": ".py",
   "mimetype": "text/x-python",
   "name": "python",
   "nbconvert_exporter": "python",
   "pygments_lexer": "ipython3",
   "version": "3.10.4"
  }
 },
 "nbformat": 4,
 "nbformat_minor": 5
}
