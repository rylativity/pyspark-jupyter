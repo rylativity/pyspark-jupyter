{
 "cells": [
  {
   "cell_type": "markdown",
   "id": "dc1eaa59-7be7-458a-b86e-08d25f8d6c0f",
   "metadata": {},
   "source": [
    "# Spark DataFrame Basic Operations"
   ]
  },
  {
   "cell_type": "code",
   "execution_count": null,
   "id": "69ce19e3-69e4-4478-8bce-d564cbe4e597",
   "metadata": {},
   "outputs": [],
   "source": [
    "from pyspark.sql import SparkSession\n",
    "\n",
    "spark = SparkSession.builder.master(\"spark://spark:7077\").appName(\"Operations\").getOrCreate()"
   ]
  },
  {
   "cell_type": "code",
   "execution_count": null,
   "id": "c6b8cb35-bd00-4745-bd3b-08efe78546a1",
   "metadata": {},
   "outputs": [],
   "source": [
    "df = spark.read.csv(\"/data/appl_stock.csv\", inferSchema=True, header=True)"
   ]
  },
  {
   "cell_type": "code",
   "execution_count": null,
   "id": "b83973c4-e4d7-4532-8a43-43850abb3ba1",
   "metadata": {},
   "outputs": [],
   "source": [
    "df.describe().show()"
   ]
  },
  {
   "cell_type": "code",
   "execution_count": null,
   "id": "339bf4d4-089a-41e0-8c4b-ee26af958044",
   "metadata": {},
   "outputs": [],
   "source": [
    "df.head(2)"
   ]
  },
  {
   "cell_type": "code",
   "execution_count": null,
   "id": "9c0f08ed-b497-42cb-be1c-83d7550760a8",
   "metadata": {
    "tags": []
   },
   "outputs": [],
   "source": [
    "# Use df.filter with SQL syntax\n",
    "df.filter(\"Close < 500\").select([\"Open\", \"Close\"]).show()"
   ]
  },
  {
   "cell_type": "code",
   "execution_count": null,
   "id": "a9ef8f69-f5cc-4e29-989d-cf1f5f130a09",
   "metadata": {},
   "outputs": [],
   "source": [
    "# Use python syntax with .filter (similar to pandas.loc)\n",
    "df.filter(df[\"Close\"] < 500).select(\"Volume\").show()"
   ]
  },
  {
   "cell_type": "code",
   "execution_count": null,
   "id": "f2fd07f6-493e-45e1-abd1-f4f29e00f7f8",
   "metadata": {},
   "outputs": [],
   "source": [
    "# Multiple conditionals use & or | and ~ for not\n",
    "df.filter((df[\"Close\"] > 200) & ~(df[\"Open\"] > 200)).show()"
   ]
  },
  {
   "cell_type": "code",
   "execution_count": null,
   "id": "2fd5b8b1-af16-438a-9654-20e670749cb3",
   "metadata": {},
   "outputs": [],
   "source": [
    "# Use .collect to get list of row objects\n",
    "result = df.filter(df[\"Low\"] == 197.16).collect()"
   ]
  },
  {
   "cell_type": "code",
   "execution_count": null,
   "id": "401651ab-0453-492c-8784-d7596bd78d43",
   "metadata": {},
   "outputs": [],
   "source": [
    "result"
   ]
  },
  {
   "cell_type": "code",
   "execution_count": null,
   "id": "68d7789e-7169-4183-8d4d-99cb1853459a",
   "metadata": {},
   "outputs": [],
   "source": [
    "row = result[0]"
   ]
  },
  {
   "cell_type": "code",
   "execution_count": null,
   "id": "56f04e87-63e0-4ead-b2e7-d51efb0cb325",
   "metadata": {},
   "outputs": [],
   "source": [
    "# Use asDict method to turn row to dict\n",
    "row.asDict()"
   ]
  }
 ],
 "metadata": {
  "kernelspec": {
   "display_name": "Python 3 (ipykernel)",
   "language": "python",
   "name": "python3"
  },
  "language_info": {
   "codemirror_mode": {
    "name": "ipython",
    "version": 3
   },
   "file_extension": ".py",
   "mimetype": "text/x-python",
   "name": "python",
   "nbconvert_exporter": "python",
   "pygments_lexer": "ipython3",
   "version": "3.10.4"
  }
 },
 "nbformat": 4,
 "nbformat_minor": 5
}
